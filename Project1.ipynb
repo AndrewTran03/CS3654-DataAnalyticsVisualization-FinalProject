{
 "cells": [
  {
   "cell_type": "markdown",
   "id": "54d5fc6b",
   "metadata": {},
   "source": [
    "Name(s): Andrew Tran, Abhay Raghavan, William Kim, Brandon Woo, Aidan Brennan\n",
    "CS 3654 Group 15"
   ]
  },
  {
   "cell_type": "markdown",
   "id": "c41157c7",
   "metadata": {},
   "source": [
    "CS 3654 Team Project Part 1 Deliverable\n",
    "\n",
    "- Project Name: Twitter-Bot Analysis\n",
    "- Team Member Name and PIDs:\n",
    "  Andrew Tran  (andrewt03)\n",
    "  Abhay Raghavan (abhayrag)\n",
    "  William Kim (williamk23)\n",
    "  Brandon Woo (bwoo212)\n",
    "  Aidan Brennan (aidanb)\n",
    "- Team Leader: Andrew Tran\n",
    "- Team Agreement:\n",
    "\n",
    "CS 3654 Team 15 Agreement\n",
    "\n",
    "● Although code will be written by individuals, all team members should be involved with\n",
    "the technical aspects of the project. All code should be documented fairly well for all to read and understand.\n",
    "● Final decisions will be discussed among all members; fair compromises should be made\n",
    "when necessary.\n",
    "● Work hours should be split as evenly as possible (actual task output may differ based on\n",
    "an individual's ability or previous experience). This ensures not only fairness but also learning opportunities for everyone. We will keep each other accountable so that no one person does not work too much or too little.\n",
    "● We will use a shared Google drive folder to aid our progress as a team. We will use Google Colabatory to help us in splitting up the work of coding. For deliverable notes, the narratives in our final submissions, and posting of other resources, we will use the shared Google Document as a repository to share between team members, making it easy for everyone to keep track of other team members’ progress. Although for final submissions, we will use a shared Jupyter Notebook (shared to all team members via a private Github repository) in team deliverables.\n",
    "● Work will not necessarily be done together in person, but good communication via text messaging is expected in a timely manner. Work may be done remotely as long as collaboration and communication are done well.\n",
    "\n",
    "Sign/Type Your Name at the Bottom to Agree to These Terms:\n",
    "Andrew Tran\n",
    "Brandon Woo\n",
    "William Kim\n",
    "Abhay Raghavan\n",
    "Aidan Brennan\n",
    "\n",
    "- Project Introduction:\n",
    "  We will be analyzing datasets containing data that distinguishes between Twitter bot accounts and 'human' accounts. Bot accounts have been growing on the platform in recent times and Twitter has had to suspend accounts that were spreading misinformation. We want to obtain information about Twitter user accounts and identify trends in bot accounts versus human accounts in order to help better distinguish between them.\n",
    "  \n",
    "- Potential Research Questions:\n",
    "  (1) How does AI identify whether bot accounts are suspicious or non-suspicious?\n",
    "  (2) In what ways do bot accounts differ from human accounts on Twitter in terms of functionality on the platform?\n",
    "  (3) How much information can be obtained from a public Twitter profile?\n",
    "\n",
    "\n",
    "- Potential Source Data:\n",
    "  We will be looking at data about Twitter users. So far, we have found a dataset that contains user accounts and categorizes them based on being 'bot' or 'human'. We would like to find additional datasets that have twitter ID's and corresponding account information such as retweets, tweet count, etc.\n",
    "  \n",
    "  Links to Source Data:\n",
    "  (1) https://www.kaggle.com/datasets/davidmartngutirrez/twitter-bots-accounts\n",
    "  (2) https://data.world/data-society/twitter-user-data\n",
    "  "
   ]
  }
 ],
 "metadata": {
  "kernelspec": {
   "display_name": "Python 3 (ipykernel)",
   "language": "python",
   "name": "python3"
  },
  "language_info": {
   "codemirror_mode": {
    "name": "ipython",
    "version": 3
   },
   "file_extension": ".py",
   "mimetype": "text/x-python",
   "name": "python",
   "nbconvert_exporter": "python",
   "pygments_lexer": "ipython3",
   "version": "3.9.12"
  }
 },
 "nbformat": 4,
 "nbformat_minor": 5
}
