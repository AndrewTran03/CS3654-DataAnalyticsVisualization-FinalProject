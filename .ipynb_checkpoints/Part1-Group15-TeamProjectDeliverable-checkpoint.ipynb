{
 "cells": [
  {
   "cell_type": "markdown",
   "id": "e1676ac9",
   "metadata": {},
   "source": [
    "Name(s): Andrew Tran, Abhay Raghavan, William Kim, Brandon Woo, Aidan Brennan\n",
    "CS 3654 Group 15"
   ]
  },
  {
   "cell_type": "markdown",
   "id": "9f5dd86d",
   "metadata": {},
   "source": [
    "CS 3654 Team Project Part 1:\n",
    "\n",
    "- Project Name: Twitter-Bot Analysis\n",
    "- Team Member Name and PIDs:\n",
    "  Andrew Tran  (andrewt03)\n",
    "  Abhay Raghavan (abhayrag)\n",
    "  William Kim (williamk23)\n",
    "  Brandon Woo (bwoo212)\n",
    "  Aidan Brennan (aidanb)\n",
    "- Team Leader: Andrew Tran\n",
    "- Team Agreement: \n",
    "\n",
    "- Project Introduction:\n",
    "  We will be analyzing datasets containing data that distinguishes between Twitter bot accounts and 'human' accounts. Bot accounts have been growing on the platform in recent times and Twitter has had to suspend accounts that were spreading misinformation. We want to obtain information about Twitter user accounts and identify trends in bot accounts versus human accounts in order to help better distinguish between them.\n",
    "  \n",
    "- Potential Research Questions:\n",
    "  (1) How does AI identify whether bot accounts are suspicious or non-suspicious?\n",
    "  (2) In what ways do bot accounts differ from human accounts on Twitter in terms of functionality on the platform?\n",
    "  (3) How much information can be obtained from a public Twitter profile?\n",
    "\n",
    "\n",
    "- Potential Source Data:\n",
    "  We will be looking at data about Twitter users. So far, we have found a dataset that contains user accounts and categorizes them based on being 'bot' or 'human'. We would like to find additional datasets that have twitter ID's and corresponding account information such as retweets, tweet count, etc.\n",
    "  \n",
    "  Links to Source Data:\n",
    "  (1) https://www.kaggle.com/datasets/davidmartngutirrez/twitter-bots-accounts\n",
    "  (2) https://data.world/data-society/twitter-user-data\n",
    "  \n"
   ]
  }
 ],
 "metadata": {
  "kernelspec": {
   "display_name": "Python 3 (ipykernel)",
   "language": "python",
   "name": "python3"
  },
  "language_info": {
   "codemirror_mode": {
    "name": "ipython",
    "version": 3
   },
   "file_extension": ".py",
   "mimetype": "text/x-python",
   "name": "python",
   "nbconvert_exporter": "python",
   "pygments_lexer": "ipython3",
   "version": "3.9.12"
  }
 },
 "nbformat": 4,
 "nbformat_minor": 5
}
