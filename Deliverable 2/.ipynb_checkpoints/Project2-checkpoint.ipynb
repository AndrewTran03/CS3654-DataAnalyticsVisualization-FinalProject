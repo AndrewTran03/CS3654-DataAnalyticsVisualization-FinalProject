{
 "cells": [
  {
   "cell_type": "markdown",
   "id": "aef0aa14",
   "metadata": {},
   "source": [
    "Name(s): Andrew Tran, Abhay Raghavan, William Kim, Brandon Woo, Aidan Brennan\n",
    "\n",
    "CS 3654 Group 15"
   ]
  },
  {
   "cell_type": "markdown",
   "id": "d9fe9ac8",
   "metadata": {},
   "source": [
    "CS 3654 Team Project Part 2 Deliverable\n",
    "\n",
    "Project Introduction (Recap):\n",
    "\n",
    "We will be analyzing datasets containing data that distinguishes between Twitter bot accounts and 'human' accounts. Bot accounts have been growing on the platform in recent times and Twitter has had to suspend accounts that were spreading misinformation. We want to obtain information about Twitter user accounts and identify trends in bot accounts versus human accounts in order to help better distinguish between them."
   ]
  },
  {
   "cell_type": "markdown",
   "id": "45964571",
   "metadata": {},
   "source": [
    "# What Characterizes Twitter Bot Accounts vs. Human Accounts?"
   ]
  },
  {
   "cell_type": "markdown",
   "id": "1ac38034",
   "metadata": {},
   "source": [
    "## Question\n",
    "\n",
    "Over the past 3 years, Twitter has seen significantly more bot accounts registered on its platform. In some cases, this has led to a rise in mischieveous or inappropriate activity on the platform, and as a result, Twitter has had to suspend accounts that were spreading misinformation. We want to obtain information about Twitter user accounts and identify trends in bot accounts versus human accounts in order to help better distinguish between them.\n",
    "\n",
    "Kaggle contains a dataset that categorizes a list of twitter accounts by identifying them as either bot or human. This dataset can be found here: https://www.kaggle.com/datasets/davidmartngutirrez/twitter-bots-accounts.\n",
    "\n",
    "But what are the best metrics we can use to differentiate between Twitter bot and human accounts? When obtaining data from Twitter accounts, there are many different identifiers that can be webscraped or are easily visible.\n",
    "\n",
    "Overview of our method: use ID's from dataset, webscrape Twitter accounts to obtain number of likes, retweets, and replies for tweets within the past 2 years, obtain dataset from webscraping, merged with initial data set using key column of 'id', sorted and grouped by different categories (\"Bot\" vs. \"Human\" as well as separated posts by ID), and lastly analyzed the grouped-columns for descriptive statistics to gather information about the mean, median, and range of each respective group. "
   ]
  },
  {
   "cell_type": "markdown",
   "id": "563c590a",
   "metadata": {},
   "source": [
    "## Analysis\n",
    "\n",
    "Here, we scrape the data from Twitter accounts using the ID's from the initial Kaggle dataset (**Note: running the scraper takes a very long time to run - please do NOT execute the following cell**):"
   ]
  },
  {
   "cell_type": "code",
   "execution_count": 1,
   "id": "5effe819",
   "metadata": {},
   "outputs": [
    {
     "ename": "ModuleNotFoundError",
     "evalue": "No module named 'twint'",
     "output_type": "error",
     "traceback": [
      "\u001b[1;31m---------------------------------------------------------------------------\u001b[0m",
      "\u001b[1;31mModuleNotFoundError\u001b[0m                       Traceback (most recent call last)",
      "Input \u001b[1;32mIn [1]\u001b[0m, in \u001b[0;36m<cell line: 1>\u001b[1;34m()\u001b[0m\n\u001b[1;32m----> 1\u001b[0m \u001b[38;5;28;01mimport\u001b[39;00m \u001b[38;5;21;01mcsv\u001b[39;00m\u001b[38;5;241m,\u001b[39m \u001b[38;5;21;01mtwint\u001b[39;00m\u001b[38;5;241m,\u001b[39m \u001b[38;5;21;01mtime\u001b[39;00m\u001b[38;5;241m,\u001b[39m \u001b[38;5;21;01mio\u001b[39;00m\u001b[38;5;241m,\u001b[39m \u001b[38;5;21;01msys\u001b[39;00m\u001b[38;5;241m,\u001b[39m \u001b[38;5;21;01mwarnings\u001b[39;00m\n\u001b[0;32m      2\u001b[0m \u001b[38;5;28;01mfrom\u001b[39;00m \u001b[38;5;21;01mdatetime\u001b[39;00m \u001b[38;5;28;01mimport\u001b[39;00m datetime, timedelta\n\u001b[0;32m      4\u001b[0m \u001b[38;5;28;01mclass\u001b[39;00m \u001b[38;5;21;01mTwitterManager\u001b[39;00m():\n",
      "\u001b[1;31mModuleNotFoundError\u001b[0m: No module named 'twint'"
     ]
    }
   ],
   "source": [
    "import csv, twint, time, io, sys, warnings\n",
    "from datetime import datetime, timedelta\n",
    "\n",
    "class TwitterManager():\n",
    "    '''\n",
    "    When initialized, suppress warnings. Don't want to console\n",
    "    to be spammed by pandas warnings\n",
    "    '''\n",
    "    def __init__(self):\n",
    "        warnings.filterwarnings(\"ignore\")\n",
    "        return\n",
    "    '''\n",
    "    Using ids present in the twitter_human_bots_dataset,\n",
    "    search twitter for tweets from those IDs and store certain information\n",
    "    about them in a DataFrame, which is later\n",
    "    converted into a csv file.\n",
    "    '''\n",
    "    def get_data(self):\n",
    "        fileName = 'twitter_human_bots_dataset.csv'\n",
    "        whole_table = pandas.DataFrame()\n",
    "        total_length = len(pandas.read_csv(fileName))\n",
    "        with open(fileName) as csv_file:\n",
    "            csv_reader = csv.reader(csv_file, delimiter='\\n')\n",
    "            line_count = 0\n",
    "            for row in csv_reader:\n",
    "                if line_count == 0:\n",
    "                    line_count += 1\n",
    "                    continue\n",
    "                data = row[0].split(',')\n",
    "                id = data[0]\n",
    "                self.disable_printing()\n",
    "                '''\n",
    "                Attempting to get twitter data for an id\n",
    "                '''\n",
    "                try:\n",
    "                    time.sleep(1)\n",
    "                    table = self.find_tweets_with_id(id)\n",
    "                except Exception as e:\n",
    "                    self.enable_printing()\n",
    "                    print(\"[\" + str(line_count) + \" / \" + str(total_length) + \"]\")\n",
    "                    line_count += 1\n",
    "                    print(\"Error getting tweets for \" + id + \".  Skipping and continuing\")\n",
    "                    print(e)\n",
    "                    continue\n",
    "                self.enable_printing()\n",
    "                print(\"[\" + str(line_count) + \" / \" + str(total_length) + \"]\")\n",
    "                line_count += 1\n",
    "                if table.empty:\n",
    "                    continue\n",
    "                table['bot_or_human'] = data[1]\n",
    "                if whole_table.empty:\n",
    "                    whole_table = table\n",
    "                else:\n",
    "                    whole_table = pandas.concat([whole_table, table])\n",
    "        whole_table.to_csv('twitter_data.csv')\n",
    "    '''\n",
    "    Helper function for get_data. This function\n",
    "    specifically handles getting information from twitter.\n",
    "    '''\n",
    "    def find_tweets_with_id(self, id):\n",
    "        endingTime = self.datetime_to_string(datetime.now())\n",
    "        #endingTime = self.datetime_to_string(end)\n",
    "        startingTime = \"2021-01-01\"\n",
    "        c = twint.Config()\n",
    "        #c.Search = id\n",
    "        c.Since = startingTime\n",
    "        c.Until = endingTime\n",
    "        c.Limit = 5\n",
    "        c.Store_object = True\n",
    "        c.Lang = 'en'\n",
    "        c.Pandas = True\n",
    "        c.User_id = id\n",
    "        twint.run.Search(c)\n",
    "        table = twint.storage.panda.Tweets_df\n",
    "        if table.empty:\n",
    "            return table\n",
    "        return table[['id', 'tweet', 'hashtags', 'cashtags', 'user_id', 'nlikes', 'nreplies', 'nretweets']]\n",
    "    '''\n",
    "    This simple helper function is for\n",
    "    convenience of converting the current datetime to\n",
    "    the correct string for the twint API call.\n",
    "    '''\n",
    "    def datetime_to_string(self, date):\n",
    "        return date.strftime(\"%Y-%m-%d\")\n",
    "    '''\n",
    "    Disables printing to the console. This function\n",
    "    was made in order to supress twints console printing, which\n",
    "    it does every time it gets data from twitter.\n",
    "\n",
    "    This gets annoying, so I disable it.\n",
    "    '''\n",
    "    def disable_printing(self):\n",
    "        trap = io.StringIO()\n",
    "        sys.stdout = trap\n",
    "        return\n",
    "    '''\n",
    "    Re-Enables printing to the console.\n",
    "    '''\n",
    "    def enable_printing(self):\n",
    "        sys.stdout = sys.__stdout__\n",
    "        return\n",
    "\n"
   ]
  },
  {
   "cell_type": "markdown",
   "id": "46f78df1",
   "metadata": {},
   "source": [
    "Here, we display the contents of the csv file (top 5 and bottom 5 rows) that stores the webscraper data. Each row contains information about a specific tweet from a specific account that is signified by id.:"
   ]
  },
  {
   "cell_type": "code",
   "execution_count": 21,
   "id": "83f9b1b3",
   "metadata": {},
   "outputs": [
    {
     "data": {
      "text/html": [
       "<div>\n",
       "<style scoped>\n",
       "    .dataframe tbody tr th:only-of-type {\n",
       "        vertical-align: middle;\n",
       "    }\n",
       "\n",
       "    .dataframe tbody tr th {\n",
       "        vertical-align: top;\n",
       "    }\n",
       "\n",
       "    .dataframe thead th {\n",
       "        text-align: right;\n",
       "    }\n",
       "</style>\n",
       "<table border=\"1\" class=\"dataframe\">\n",
       "  <thead>\n",
       "    <tr style=\"text-align: right;\">\n",
       "      <th></th>\n",
       "      <th>Unnamed: 0</th>\n",
       "      <th>id</th>\n",
       "      <th>tweet</th>\n",
       "      <th>hashtags</th>\n",
       "      <th>cashtags</th>\n",
       "      <th>user_id</th>\n",
       "      <th>nlikes</th>\n",
       "      <th>nreplies</th>\n",
       "      <th>nretweets</th>\n",
       "      <th>bot_or_human</th>\n",
       "    </tr>\n",
       "  </thead>\n",
       "  <tbody>\n",
       "    <tr>\n",
       "      <th>0</th>\n",
       "      <td>0</td>\n",
       "      <td>1584288573440036864</td>\n",
       "      <td>Put the \"Bite\" into \"Exhibited\"  https://t.co/...</td>\n",
       "      <td>[]</td>\n",
       "      <td>[]</td>\n",
       "      <td>787405734442958848</td>\n",
       "      <td>2</td>\n",
       "      <td>0</td>\n",
       "      <td>0</td>\n",
       "      <td>bot</td>\n",
       "    </tr>\n",
       "    <tr>\n",
       "      <th>1</th>\n",
       "      <td>1</td>\n",
       "      <td>1584243270632497152</td>\n",
       "      <td>You can't get the \"Sin\" out of \"Nosiness\"  htt...</td>\n",
       "      <td>[]</td>\n",
       "      <td>[]</td>\n",
       "      <td>787405734442958848</td>\n",
       "      <td>4</td>\n",
       "      <td>0</td>\n",
       "      <td>2</td>\n",
       "      <td>bot</td>\n",
       "    </tr>\n",
       "    <tr>\n",
       "      <th>2</th>\n",
       "      <td>2</td>\n",
       "      <td>1584197985990504449</td>\n",
       "      <td>Let's put the \"Earl\" into \"Fearless\"  https://...</td>\n",
       "      <td>[]</td>\n",
       "      <td>[]</td>\n",
       "      <td>787405734442958848</td>\n",
       "      <td>0</td>\n",
       "      <td>0</td>\n",
       "      <td>0</td>\n",
       "      <td>bot</td>\n",
       "    </tr>\n",
       "    <tr>\n",
       "      <th>3</th>\n",
       "      <td>3</td>\n",
       "      <td>1584152675314458624</td>\n",
       "      <td>Be the \"Nab\" in \"Cinnabar\"  https://t.co/tF0cM...</td>\n",
       "      <td>[]</td>\n",
       "      <td>[]</td>\n",
       "      <td>787405734442958848</td>\n",
       "      <td>0</td>\n",
       "      <td>0</td>\n",
       "      <td>0</td>\n",
       "      <td>bot</td>\n",
       "    </tr>\n",
       "    <tr>\n",
       "      <th>4</th>\n",
       "      <td>4</td>\n",
       "      <td>1584107378420887552</td>\n",
       "      <td>We need \"Cat\" to spell \"Obfuscate\"  https://t....</td>\n",
       "      <td>[]</td>\n",
       "      <td>[]</td>\n",
       "      <td>787405734442958848</td>\n",
       "      <td>3</td>\n",
       "      <td>0</td>\n",
       "      <td>0</td>\n",
       "      <td>bot</td>\n",
       "    </tr>\n",
       "    <tr>\n",
       "      <th>...</th>\n",
       "      <td>...</td>\n",
       "      <td>...</td>\n",
       "      <td>...</td>\n",
       "      <td>...</td>\n",
       "      <td>...</td>\n",
       "      <td>...</td>\n",
       "      <td>...</td>\n",
       "      <td>...</td>\n",
       "      <td>...</td>\n",
       "      <td>...</td>\n",
       "    </tr>\n",
       "    <tr>\n",
       "      <th>250779</th>\n",
       "      <td>15</td>\n",
       "      <td>1529515450316382208</td>\n",
       "      <td>@Tagard_McStone Let's not be too harsh now, ju...</td>\n",
       "      <td>[]</td>\n",
       "      <td>[]</td>\n",
       "      <td>815529979</td>\n",
       "      <td>1</td>\n",
       "      <td>0</td>\n",
       "      <td>0</td>\n",
       "      <td>human</td>\n",
       "    </tr>\n",
       "    <tr>\n",
       "      <th>250780</th>\n",
       "      <td>16</td>\n",
       "      <td>1522622120529842176</td>\n",
       "      <td>@Tumbledorez This was a whole Habbo Mood™  htt...</td>\n",
       "      <td>[]</td>\n",
       "      <td>[]</td>\n",
       "      <td>815529979</td>\n",
       "      <td>1</td>\n",
       "      <td>0</td>\n",
       "      <td>0</td>\n",
       "      <td>human</td>\n",
       "    </tr>\n",
       "    <tr>\n",
       "      <th>250781</th>\n",
       "      <td>17</td>\n",
       "      <td>1521197191821336576</td>\n",
       "      <td>@Tumbledorez Just wait until I hit you with th...</td>\n",
       "      <td>[]</td>\n",
       "      <td>[]</td>\n",
       "      <td>815529979</td>\n",
       "      <td>0</td>\n",
       "      <td>0</td>\n",
       "      <td>0</td>\n",
       "      <td>human</td>\n",
       "    </tr>\n",
       "    <tr>\n",
       "      <th>250782</th>\n",
       "      <td>18</td>\n",
       "      <td>1521190723147628544</td>\n",
       "      <td>It was so cool to not only be celebrated for o...</td>\n",
       "      <td>[]</td>\n",
       "      <td>[]</td>\n",
       "      <td>815529979</td>\n",
       "      <td>2</td>\n",
       "      <td>0</td>\n",
       "      <td>0</td>\n",
       "      <td>human</td>\n",
       "    </tr>\n",
       "    <tr>\n",
       "      <th>250783</th>\n",
       "      <td>19</td>\n",
       "      <td>1511395724302303233</td>\n",
       "      <td>@lessthanamuffin Beware the commercial door hi...</td>\n",
       "      <td>[]</td>\n",
       "      <td>[]</td>\n",
       "      <td>815529979</td>\n",
       "      <td>0</td>\n",
       "      <td>0</td>\n",
       "      <td>0</td>\n",
       "      <td>human</td>\n",
       "    </tr>\n",
       "  </tbody>\n",
       "</table>\n",
       "<p>250784 rows × 10 columns</p>\n",
       "</div>"
      ],
      "text/plain": [
       "        Unnamed: 0                   id  \\\n",
       "0                0  1584288573440036864   \n",
       "1                1  1584243270632497152   \n",
       "2                2  1584197985990504449   \n",
       "3                3  1584152675314458624   \n",
       "4                4  1584107378420887552   \n",
       "...            ...                  ...   \n",
       "250779          15  1529515450316382208   \n",
       "250780          16  1522622120529842176   \n",
       "250781          17  1521197191821336576   \n",
       "250782          18  1521190723147628544   \n",
       "250783          19  1511395724302303233   \n",
       "\n",
       "                                                    tweet hashtags cashtags  \\\n",
       "0       Put the \"Bite\" into \"Exhibited\"  https://t.co/...       []       []   \n",
       "1       You can't get the \"Sin\" out of \"Nosiness\"  htt...       []       []   \n",
       "2       Let's put the \"Earl\" into \"Fearless\"  https://...       []       []   \n",
       "3       Be the \"Nab\" in \"Cinnabar\"  https://t.co/tF0cM...       []       []   \n",
       "4       We need \"Cat\" to spell \"Obfuscate\"  https://t....       []       []   \n",
       "...                                                   ...      ...      ...   \n",
       "250779  @Tagard_McStone Let's not be too harsh now, ju...       []       []   \n",
       "250780  @Tumbledorez This was a whole Habbo Mood™  htt...       []       []   \n",
       "250781  @Tumbledorez Just wait until I hit you with th...       []       []   \n",
       "250782  It was so cool to not only be celebrated for o...       []       []   \n",
       "250783  @lessthanamuffin Beware the commercial door hi...       []       []   \n",
       "\n",
       "                   user_id  nlikes  nreplies  nretweets bot_or_human  \n",
       "0       787405734442958848       2         0          0          bot  \n",
       "1       787405734442958848       4         0          2          bot  \n",
       "2       787405734442958848       0         0          0          bot  \n",
       "3       787405734442958848       0         0          0          bot  \n",
       "4       787405734442958848       3         0          0          bot  \n",
       "...                    ...     ...       ...        ...          ...  \n",
       "250779           815529979       1         0          0        human  \n",
       "250780           815529979       1         0          0        human  \n",
       "250781           815529979       0         0          0        human  \n",
       "250782           815529979       2         0          0        human  \n",
       "250783           815529979       0         0          0        human  \n",
       "\n",
       "[250784 rows x 10 columns]"
      ]
     },
     "execution_count": 21,
     "metadata": {},
     "output_type": "execute_result"
    }
   ],
   "source": [
    "import pandas, numpy\n",
    "from sklearn.linear_model import LinearRegression\n",
    "\n",
    "scraperdata = pandas.read_csv(\"twitter_data.csv\")\n",
    "scraperdata"
   ]
  },
  {
   "cell_type": "markdown",
   "id": "633a5adc",
   "metadata": {},
   "source": [
    "We also take the original Kaggle data and set it equal to a variable that stores Twitter account id's and their categorization of either bot or human account."
   ]
  },
  {
   "cell_type": "code",
   "execution_count": 22,
   "id": "e1cba744",
   "metadata": {},
   "outputs": [
    {
     "data": {
      "text/html": [
       "<div>\n",
       "<style scoped>\n",
       "    .dataframe tbody tr th:only-of-type {\n",
       "        vertical-align: middle;\n",
       "    }\n",
       "\n",
       "    .dataframe tbody tr th {\n",
       "        vertical-align: top;\n",
       "    }\n",
       "\n",
       "    .dataframe thead th {\n",
       "        text-align: right;\n",
       "    }\n",
       "</style>\n",
       "<table border=\"1\" class=\"dataframe\">\n",
       "  <thead>\n",
       "    <tr style=\"text-align: right;\">\n",
       "      <th></th>\n",
       "      <th>id</th>\n",
       "      <th>account_type</th>\n",
       "    </tr>\n",
       "  </thead>\n",
       "  <tbody>\n",
       "    <tr>\n",
       "      <th>0</th>\n",
       "      <td>787405734442958848</td>\n",
       "      <td>bot</td>\n",
       "    </tr>\n",
       "    <tr>\n",
       "      <th>1</th>\n",
       "      <td>796216118331310080</td>\n",
       "      <td>human</td>\n",
       "    </tr>\n",
       "    <tr>\n",
       "      <th>2</th>\n",
       "      <td>875949740503859204</td>\n",
       "      <td>human</td>\n",
       "    </tr>\n",
       "    <tr>\n",
       "      <th>3</th>\n",
       "      <td>756119643622735875</td>\n",
       "      <td>human</td>\n",
       "    </tr>\n",
       "    <tr>\n",
       "      <th>4</th>\n",
       "      <td>464781334</td>\n",
       "      <td>human</td>\n",
       "    </tr>\n",
       "    <tr>\n",
       "      <th>...</th>\n",
       "      <td>...</td>\n",
       "      <td>...</td>\n",
       "    </tr>\n",
       "    <tr>\n",
       "      <th>37433</th>\n",
       "      <td>63963107</td>\n",
       "      <td>human</td>\n",
       "    </tr>\n",
       "    <tr>\n",
       "      <th>37434</th>\n",
       "      <td>1064042478</td>\n",
       "      <td>human</td>\n",
       "    </tr>\n",
       "    <tr>\n",
       "      <th>37435</th>\n",
       "      <td>1089732602</td>\n",
       "      <td>human</td>\n",
       "    </tr>\n",
       "    <tr>\n",
       "      <th>37436</th>\n",
       "      <td>815529979</td>\n",
       "      <td>human</td>\n",
       "    </tr>\n",
       "    <tr>\n",
       "      <th>37437</th>\n",
       "      <td>434896892</td>\n",
       "      <td>bot</td>\n",
       "    </tr>\n",
       "  </tbody>\n",
       "</table>\n",
       "<p>37438 rows × 2 columns</p>\n",
       "</div>"
      ],
      "text/plain": [
       "                       id account_type\n",
       "0      787405734442958848          bot\n",
       "1      796216118331310080        human\n",
       "2      875949740503859204        human\n",
       "3      756119643622735875        human\n",
       "4               464781334        human\n",
       "...                   ...          ...\n",
       "37433            63963107        human\n",
       "37434          1064042478        human\n",
       "37435          1089732602        human\n",
       "37436           815529979        human\n",
       "37437           434896892          bot\n",
       "\n",
       "[37438 rows x 2 columns]"
      ]
     },
     "execution_count": 22,
     "metadata": {},
     "output_type": "execute_result"
    }
   ],
   "source": [
    "twitdata = pandas.read_csv(\"twitter_human_bots_dataset.csv\")\n",
    "twitdata"
   ]
  },
  {
   "cell_type": "markdown",
   "id": "a35b2922",
   "metadata": {},
   "source": [
    "Next, we group data from the csv file by user_id. This groups together tweets from a specific Twitter account. "
   ]
  },
  {
   "cell_type": "code",
   "execution_count": 23,
   "id": "b568221a",
   "metadata": {},
   "outputs": [],
   "source": [
    "groupbyData = scraperdata.groupby('user_id')"
   ]
  },
  {
   "cell_type": "markdown",
   "id": "8c1268a2",
   "metadata": {},
   "source": [
    "Then, we decided upon metrics to statistically describe information about these Twitter accounts. We realized that some accounts would have significantly higher or fewer like, retweet, and reply counts for their tweets. Thus, we felt that using the mean value as a descriptive statistic would not be optimal since outliers would be taken into consideration, and our evaluation may be biased or potentially skewed. \n",
    "\n",
    "We proceeded by taking a look at the median number of likes/retweets/replies for each group, since median is an outlier-resistant statistic. "
   ]
  },
  {
   "cell_type": "code",
   "execution_count": 24,
   "id": "99744922",
   "metadata": {},
   "outputs": [
    {
     "data": {
      "text/plain": [
       "user_id\n",
       "418                     3.0\n",
       "586                    12.5\n",
       "10202                   1.0\n",
       "12522                   1.0\n",
       "13253                   0.0\n",
       "                       ... \n",
       "1101849622073491456     0.0\n",
       "1107378463114227712     0.0\n",
       "1109778441379950592     1.0\n",
       "1113425507624919040     0.0\n",
       "1113577200664629249     0.0\n",
       "Name: nlikes, Length: 15392, dtype: float64"
      ]
     },
     "execution_count": 24,
     "metadata": {},
     "output_type": "execute_result"
    }
   ],
   "source": [
    "groupbyData.nlikes.median()"
   ]
  },
  {
   "cell_type": "code",
   "execution_count": 25,
   "id": "f98744e7",
   "metadata": {},
   "outputs": [
    {
     "data": {
      "text/plain": [
       "user_id\n",
       "418                    1.0\n",
       "586                    1.0\n",
       "10202                  1.0\n",
       "12522                  1.0\n",
       "13253                  0.0\n",
       "                      ... \n",
       "1101849622073491456    0.0\n",
       "1107378463114227712    0.0\n",
       "1109778441379950592    0.0\n",
       "1113425507624919040    0.0\n",
       "1113577200664629249    0.0\n",
       "Name: nreplies, Length: 15392, dtype: float64"
      ]
     },
     "execution_count": 25,
     "metadata": {},
     "output_type": "execute_result"
    }
   ],
   "source": [
    "groupbyData.nreplies.median()"
   ]
  },
  {
   "cell_type": "code",
   "execution_count": 26,
   "id": "b64b0d28",
   "metadata": {},
   "outputs": [
    {
     "data": {
      "text/plain": [
       "user_id\n",
       "418                    0.0\n",
       "586                    0.0\n",
       "10202                  0.0\n",
       "12522                  0.0\n",
       "13253                  0.0\n",
       "                      ... \n",
       "1101849622073491456    0.0\n",
       "1107378463114227712    0.0\n",
       "1109778441379950592    0.0\n",
       "1113425507624919040    0.0\n",
       "1113577200664629249    0.0\n",
       "Name: nretweets, Length: 15392, dtype: float64"
      ]
     },
     "execution_count": 26,
     "metadata": {},
     "output_type": "execute_result"
    }
   ],
   "source": [
    "groupbyData.nretweets.median()"
   ]
  },
  {
   "cell_type": "markdown",
   "id": "bc1e4ccf",
   "metadata": {},
   "source": [
    "After looking at medians, however, we realized another way to describe data about specific Twitter accounts would be just using the total number of likes, retweets, and replies. This may work better than using the median values because some tweets for an account may get significantly more impressions than another, and the median value may not always account for that. That being said, we also have to take into consideration that the number of tweets in group is not the same because some accounts may have had more tweets published since January 2021 than other accounts. \n",
    "\n",
    "Below, we made a new dataframe that contains the total number of likes, replies, and retweets for each twitter user grouped from the original data. Then we merged this with the data with the original Kaggle data to classify user account data by both statistical metrics and categorial metrics that signified if an account was bot or human."
   ]
  },
  {
   "cell_type": "code",
   "execution_count": 27,
   "id": "98d9a706",
   "metadata": {},
   "outputs": [
    {
     "data": {
      "text/html": [
       "<div>\n",
       "<style scoped>\n",
       "    .dataframe tbody tr th:only-of-type {\n",
       "        vertical-align: middle;\n",
       "    }\n",
       "\n",
       "    .dataframe tbody tr th {\n",
       "        vertical-align: top;\n",
       "    }\n",
       "\n",
       "    .dataframe thead th {\n",
       "        text-align: right;\n",
       "    }\n",
       "</style>\n",
       "<table border=\"1\" class=\"dataframe\">\n",
       "  <thead>\n",
       "    <tr style=\"text-align: right;\">\n",
       "      <th></th>\n",
       "      <th>Likes</th>\n",
       "      <th>Replies</th>\n",
       "      <th>Retweets</th>\n",
       "      <th>id</th>\n",
       "      <th>account_type</th>\n",
       "    </tr>\n",
       "  </thead>\n",
       "  <tbody>\n",
       "    <tr>\n",
       "      <th>0</th>\n",
       "      <td>97</td>\n",
       "      <td>42</td>\n",
       "      <td>10</td>\n",
       "      <td>418</td>\n",
       "      <td>human</td>\n",
       "    </tr>\n",
       "    <tr>\n",
       "      <th>1</th>\n",
       "      <td>785</td>\n",
       "      <td>36</td>\n",
       "      <td>44</td>\n",
       "      <td>586</td>\n",
       "      <td>human</td>\n",
       "    </tr>\n",
       "    <tr>\n",
       "      <th>2</th>\n",
       "      <td>53</td>\n",
       "      <td>26</td>\n",
       "      <td>3</td>\n",
       "      <td>10202</td>\n",
       "      <td>human</td>\n",
       "    </tr>\n",
       "    <tr>\n",
       "      <th>3</th>\n",
       "      <td>99</td>\n",
       "      <td>22</td>\n",
       "      <td>6</td>\n",
       "      <td>12522</td>\n",
       "      <td>human</td>\n",
       "    </tr>\n",
       "    <tr>\n",
       "      <th>4</th>\n",
       "      <td>18</td>\n",
       "      <td>8</td>\n",
       "      <td>0</td>\n",
       "      <td>13253</td>\n",
       "      <td>human</td>\n",
       "    </tr>\n",
       "    <tr>\n",
       "      <th>...</th>\n",
       "      <td>...</td>\n",
       "      <td>...</td>\n",
       "      <td>...</td>\n",
       "      <td>...</td>\n",
       "      <td>...</td>\n",
       "    </tr>\n",
       "    <tr>\n",
       "      <th>15387</th>\n",
       "      <td>1</td>\n",
       "      <td>0</td>\n",
       "      <td>0</td>\n",
       "      <td>1101849622073491456</td>\n",
       "      <td>bot</td>\n",
       "    </tr>\n",
       "    <tr>\n",
       "      <th>15388</th>\n",
       "      <td>3</td>\n",
       "      <td>0</td>\n",
       "      <td>0</td>\n",
       "      <td>1107378463114227712</td>\n",
       "      <td>bot</td>\n",
       "    </tr>\n",
       "    <tr>\n",
       "      <th>15389</th>\n",
       "      <td>72</td>\n",
       "      <td>8</td>\n",
       "      <td>6</td>\n",
       "      <td>1109778441379950592</td>\n",
       "      <td>bot</td>\n",
       "    </tr>\n",
       "    <tr>\n",
       "      <th>15390</th>\n",
       "      <td>0</td>\n",
       "      <td>0</td>\n",
       "      <td>0</td>\n",
       "      <td>1113425507624919040</td>\n",
       "      <td>bot</td>\n",
       "    </tr>\n",
       "    <tr>\n",
       "      <th>15391</th>\n",
       "      <td>0</td>\n",
       "      <td>0</td>\n",
       "      <td>0</td>\n",
       "      <td>1113577200664629249</td>\n",
       "      <td>bot</td>\n",
       "    </tr>\n",
       "  </tbody>\n",
       "</table>\n",
       "<p>15392 rows × 5 columns</p>\n",
       "</div>"
      ],
      "text/plain": [
       "       Likes  Replies  Retweets                   id account_type\n",
       "0         97       42        10                  418        human\n",
       "1        785       36        44                  586        human\n",
       "2         53       26         3                10202        human\n",
       "3         99       22         6                12522        human\n",
       "4         18        8         0                13253        human\n",
       "...      ...      ...       ...                  ...          ...\n",
       "15387      1        0         0  1101849622073491456          bot\n",
       "15388      3        0         0  1107378463114227712          bot\n",
       "15389     72        8         6  1109778441379950592          bot\n",
       "15390      0        0         0  1113425507624919040          bot\n",
       "15391      0        0         0  1113577200664629249          bot\n",
       "\n",
       "[15392 rows x 5 columns]"
      ]
     },
     "execution_count": 27,
     "metadata": {},
     "output_type": "execute_result"
    }
   ],
   "source": [
    "summed_data = pandas.DataFrame({\"Likes\" : groupbyData.nlikes.sum(), \"Replies\" : groupbyData.nreplies.sum(), \"Retweets\" : groupbyData.nretweets.sum()})\n",
    "merged_sum_data = pandas.merge(summed_data, twitdata, left_on = 'user_id', right_on = 'id')\n",
    "merged_sum_data"
   ]
  },
  {
   "cell_type": "markdown",
   "id": "de8ef37b",
   "metadata": {},
   "source": [
    "After getting our results, we then normalized our data so that we could more easily visualize and scale our data, ensuring our skew is minimal. We normalized all of the quantitiative columns except for 'id', which represents the Twitter account id."
   ]
  },
  {
   "cell_type": "code",
   "execution_count": 28,
   "id": "1c00927c",
   "metadata": {},
   "outputs": [
    {
     "data": {
      "text/html": [
       "<div>\n",
       "<style scoped>\n",
       "    .dataframe tbody tr th:only-of-type {\n",
       "        vertical-align: middle;\n",
       "    }\n",
       "\n",
       "    .dataframe tbody tr th {\n",
       "        vertical-align: top;\n",
       "    }\n",
       "\n",
       "    .dataframe thead th {\n",
       "        text-align: right;\n",
       "    }\n",
       "</style>\n",
       "<table border=\"1\" class=\"dataframe\">\n",
       "  <thead>\n",
       "    <tr style=\"text-align: right;\">\n",
       "      <th></th>\n",
       "      <th>Likes</th>\n",
       "      <th>Replies</th>\n",
       "      <th>Retweets</th>\n",
       "      <th>id</th>\n",
       "      <th>account_type</th>\n",
       "    </tr>\n",
       "  </thead>\n",
       "  <tbody>\n",
       "    <tr>\n",
       "      <th>0</th>\n",
       "      <td>-0.104281</td>\n",
       "      <td>-0.086889</td>\n",
       "      <td>-0.091494</td>\n",
       "      <td>418</td>\n",
       "      <td>human</td>\n",
       "    </tr>\n",
       "    <tr>\n",
       "      <th>1</th>\n",
       "      <td>-0.099247</td>\n",
       "      <td>-0.088083</td>\n",
       "      <td>-0.089421</td>\n",
       "      <td>586</td>\n",
       "      <td>human</td>\n",
       "    </tr>\n",
       "    <tr>\n",
       "      <th>2</th>\n",
       "      <td>-0.104603</td>\n",
       "      <td>-0.090074</td>\n",
       "      <td>-0.091921</td>\n",
       "      <td>10202</td>\n",
       "      <td>human</td>\n",
       "    </tr>\n",
       "    <tr>\n",
       "      <th>3</th>\n",
       "      <td>-0.104266</td>\n",
       "      <td>-0.090870</td>\n",
       "      <td>-0.091738</td>\n",
       "      <td>12522</td>\n",
       "      <td>human</td>\n",
       "    </tr>\n",
       "    <tr>\n",
       "      <th>4</th>\n",
       "      <td>-0.104859</td>\n",
       "      <td>-0.093656</td>\n",
       "      <td>-0.092104</td>\n",
       "      <td>13253</td>\n",
       "      <td>human</td>\n",
       "    </tr>\n",
       "    <tr>\n",
       "      <th>...</th>\n",
       "      <td>...</td>\n",
       "      <td>...</td>\n",
       "      <td>...</td>\n",
       "      <td>...</td>\n",
       "      <td>...</td>\n",
       "    </tr>\n",
       "    <tr>\n",
       "      <th>15387</th>\n",
       "      <td>-0.104983</td>\n",
       "      <td>-0.095249</td>\n",
       "      <td>-0.092104</td>\n",
       "      <td>1101849622073491456</td>\n",
       "      <td>bot</td>\n",
       "    </tr>\n",
       "    <tr>\n",
       "      <th>15388</th>\n",
       "      <td>-0.104969</td>\n",
       "      <td>-0.095249</td>\n",
       "      <td>-0.092104</td>\n",
       "      <td>1107378463114227712</td>\n",
       "      <td>bot</td>\n",
       "    </tr>\n",
       "    <tr>\n",
       "      <th>15389</th>\n",
       "      <td>-0.104464</td>\n",
       "      <td>-0.093656</td>\n",
       "      <td>-0.091738</td>\n",
       "      <td>1109778441379950592</td>\n",
       "      <td>bot</td>\n",
       "    </tr>\n",
       "    <tr>\n",
       "      <th>15390</th>\n",
       "      <td>-0.104991</td>\n",
       "      <td>-0.095249</td>\n",
       "      <td>-0.092104</td>\n",
       "      <td>1113425507624919040</td>\n",
       "      <td>bot</td>\n",
       "    </tr>\n",
       "    <tr>\n",
       "      <th>15391</th>\n",
       "      <td>-0.104991</td>\n",
       "      <td>-0.095249</td>\n",
       "      <td>-0.092104</td>\n",
       "      <td>1113577200664629249</td>\n",
       "      <td>bot</td>\n",
       "    </tr>\n",
       "  </tbody>\n",
       "</table>\n",
       "<p>15392 rows × 5 columns</p>\n",
       "</div>"
      ],
      "text/plain": [
       "          Likes   Replies  Retweets                   id account_type\n",
       "0     -0.104281 -0.086889 -0.091494                  418        human\n",
       "1     -0.099247 -0.088083 -0.089421                  586        human\n",
       "2     -0.104603 -0.090074 -0.091921                10202        human\n",
       "3     -0.104266 -0.090870 -0.091738                12522        human\n",
       "4     -0.104859 -0.093656 -0.092104                13253        human\n",
       "...         ...       ...       ...                  ...          ...\n",
       "15387 -0.104983 -0.095249 -0.092104  1101849622073491456          bot\n",
       "15388 -0.104969 -0.095249 -0.092104  1107378463114227712          bot\n",
       "15389 -0.104464 -0.093656 -0.091738  1109778441379950592          bot\n",
       "15390 -0.104991 -0.095249 -0.092104  1113425507624919040          bot\n",
       "15391 -0.104991 -0.095249 -0.092104  1113577200664629249          bot\n",
       "\n",
       "[15392 rows x 5 columns]"
      ]
     },
     "execution_count": 28,
     "metadata": {},
     "output_type": "execute_result"
    }
   ],
   "source": [
    "norm_sum = merged_sum_data.copy()\n",
    "norm_sum['Likes'] = (norm_sum.Likes - norm_sum.Likes.mean()) / norm_sum.Likes.std()\n",
    "norm_sum['Replies'] = (norm_sum.Replies - norm_sum.Replies.mean()) / norm_sum.Replies.std()\n",
    "norm_sum['Retweets'] = (norm_sum.Retweets - norm_sum.Retweets.mean()) / norm_sum.Retweets.std()\n",
    "norm_sum"
   ]
  },
  {
   "cell_type": "markdown",
   "id": "6441ebd5",
   "metadata": {},
   "source": [
    "We then plotted linear regression graphs to see how well the normalized number of replies and retweets are predicted by the number of likes a tweet gets for all of the Twitter accounts in our datset."
   ]
  },
  {
   "cell_type": "code",
   "execution_count": 33,
   "id": "4a1df054",
   "metadata": {},
   "outputs": [
    {
     "data": {
      "text/plain": [
       "(array([0.74569554]), 1.3769453018416436e-18)"
      ]
     },
     "execution_count": 33,
     "metadata": {},
     "output_type": "execute_result"
    },
    {
     "data": {
      "image/png": "[encoded data removed]",
      "text/plain": [
       "<Figure size 720x720 with 1 Axes>"
      ]
     },
     "metadata": {
      "needs_background": "light"
     },
     "output_type": "display_data"
    }
   ],
   "source": [
    "lm1 = LinearRegression().fit(norm_sum[['Likes']], norm_sum.Replies)\n",
    "norm_sum['PredictedReplies'] = lm1.predict(norm_sum[['Likes']])\n",
    "ax = norm_sum.plot.scatter(x = 'Likes', y = 'Replies', color = 'blue')\n",
    "norm_sum.plot.scatter(x = 'Likes', y = 'PredictedReplies', ax=ax, color = 'red', figsize = (10, 10))\n",
    "lm1.coef_, lm1.intercept_"
   ]
  },
  {
   "cell_type": "code",
   "execution_count": 34,
   "id": "1d179ac7",
   "metadata": {},
   "outputs": [
    {
     "data": {
      "text/plain": [
       "(array([0.85236142]), 5.266956051150244e-18)"
      ]
     },
     "execution_count": 34,
     "metadata": {},
     "output_type": "execute_result"
    },
    {
     "data": {
      "image/png": "[encoded data removed]",
      "text/plain": [
       "<Figure size 720x720 with 1 Axes>"
      ]
     },
     "metadata": {
      "needs_background": "light"
     },
     "output_type": "display_data"
    }
   ],
   "source": [
    "lm2 = LinearRegression().fit(norm_sum[['Likes']], norm_sum.Retweets)\n",
    "norm_sum['PredictedRetweets'] = lm2.predict(norm_sum[['Likes']])\n",
    "ax = norm_sum.plot.scatter(x = 'Likes', y = 'Retweets', color = 'blue')\n",
    "norm_sum.plot.scatter(x = 'Likes', y = 'PredictedRetweets', ax=ax, color = 'red', figsize = (10, 10))\n",
    "lm2.coef_, lm2.intercept_"
   ]
  },
  {
   "cell_type": "markdown",
   "id": "f26afc81",
   "metadata": {},
   "source": [
    "While the above plots provide us a linear regression of all of the Twitter account data, since we are looking at differences between human and bot accounts, we wanted to filter our data to contain info about just human and bot accounts, and then do regression analysis on that. We created 2 filtered datasets from the norm_sum dataset to separate human and bot data. Below are 4 plots - similar to the above graphs, we observe how well retweets and replies can be the number of likes for a Twitter account. 2 plots correspond to human accounts only and the other 2 correspond to bot accounts only."
   ]
  },
  {
   "cell_type": "code",
   "execution_count": 35,
   "id": "5ae977a1",
   "metadata": {},
   "outputs": [
    {
     "data": {
      "text/html": [
       "<div>\n",
       "<style scoped>\n",
       "    .dataframe tbody tr th:only-of-type {\n",
       "        vertical-align: middle;\n",
       "    }\n",
       "\n",
       "    .dataframe tbody tr th {\n",
       "        vertical-align: top;\n",
       "    }\n",
       "\n",
       "    .dataframe thead th {\n",
       "        text-align: right;\n",
       "    }\n",
       "</style>\n",
       "<table border=\"1\" class=\"dataframe\">\n",
       "  <thead>\n",
       "    <tr style=\"text-align: right;\">\n",
       "      <th></th>\n",
       "      <th>Likes</th>\n",
       "      <th>Replies</th>\n",
       "      <th>Retweets</th>\n",
       "      <th>id</th>\n",
       "      <th>account_type</th>\n",
       "      <th>PredictedReplies</th>\n",
       "      <th>PredictedRetweets</th>\n",
       "    </tr>\n",
       "  </thead>\n",
       "  <tbody>\n",
       "    <tr>\n",
       "      <th>7</th>\n",
       "      <td>-0.104654</td>\n",
       "      <td>-0.093856</td>\n",
       "      <td>-0.091494</td>\n",
       "      <td>30973</td>\n",
       "      <td>bot</td>\n",
       "      <td>-0.078040</td>\n",
       "      <td>-0.089203</td>\n",
       "    </tr>\n",
       "    <tr>\n",
       "      <th>14</th>\n",
       "      <td>-0.104032</td>\n",
       "      <td>-0.094055</td>\n",
       "      <td>-0.089970</td>\n",
       "      <td>622143</td>\n",
       "      <td>bot</td>\n",
       "      <td>-0.077576</td>\n",
       "      <td>-0.088673</td>\n",
       "    </tr>\n",
       "    <tr>\n",
       "      <th>19</th>\n",
       "      <td>-0.102042</td>\n",
       "      <td>-0.089477</td>\n",
       "      <td>-0.081068</td>\n",
       "      <td>717313</td>\n",
       "      <td>bot</td>\n",
       "      <td>-0.076092</td>\n",
       "      <td>-0.086977</td>\n",
       "    </tr>\n",
       "    <tr>\n",
       "      <th>21</th>\n",
       "      <td>-0.036126</td>\n",
       "      <td>0.279737</td>\n",
       "      <td>0.046845</td>\n",
       "      <td>742143</td>\n",
       "      <td>bot</td>\n",
       "      <td>-0.026939</td>\n",
       "      <td>-0.030792</td>\n",
       "    </tr>\n",
       "    <tr>\n",
       "      <th>26</th>\n",
       "      <td>-0.061449</td>\n",
       "      <td>0.158324</td>\n",
       "      <td>-0.001564</td>\n",
       "      <td>759251</td>\n",
       "      <td>bot</td>\n",
       "      <td>-0.045822</td>\n",
       "      <td>-0.052377</td>\n",
       "    </tr>\n",
       "    <tr>\n",
       "      <th>...</th>\n",
       "      <td>...</td>\n",
       "      <td>...</td>\n",
       "      <td>...</td>\n",
       "      <td>...</td>\n",
       "      <td>...</td>\n",
       "      <td>...</td>\n",
       "      <td>...</td>\n",
       "    </tr>\n",
       "    <tr>\n",
       "      <th>15387</th>\n",
       "      <td>-0.104983</td>\n",
       "      <td>-0.095249</td>\n",
       "      <td>-0.092104</td>\n",
       "      <td>1101849622073491456</td>\n",
       "      <td>bot</td>\n",
       "      <td>-0.078286</td>\n",
       "      <td>-0.089484</td>\n",
       "    </tr>\n",
       "    <tr>\n",
       "      <th>15388</th>\n",
       "      <td>-0.104969</td>\n",
       "      <td>-0.095249</td>\n",
       "      <td>-0.092104</td>\n",
       "      <td>1107378463114227712</td>\n",
       "      <td>bot</td>\n",
       "      <td>-0.078275</td>\n",
       "      <td>-0.089471</td>\n",
       "    </tr>\n",
       "    <tr>\n",
       "      <th>15389</th>\n",
       "      <td>-0.104464</td>\n",
       "      <td>-0.093656</td>\n",
       "      <td>-0.091738</td>\n",
       "      <td>1109778441379950592</td>\n",
       "      <td>bot</td>\n",
       "      <td>-0.077898</td>\n",
       "      <td>-0.089041</td>\n",
       "    </tr>\n",
       "    <tr>\n",
       "      <th>15390</th>\n",
       "      <td>-0.104991</td>\n",
       "      <td>-0.095249</td>\n",
       "      <td>-0.092104</td>\n",
       "      <td>1113425507624919040</td>\n",
       "      <td>bot</td>\n",
       "      <td>-0.078291</td>\n",
       "      <td>-0.089490</td>\n",
       "    </tr>\n",
       "    <tr>\n",
       "      <th>15391</th>\n",
       "      <td>-0.104991</td>\n",
       "      <td>-0.095249</td>\n",
       "      <td>-0.092104</td>\n",
       "      <td>1113577200664629249</td>\n",
       "      <td>bot</td>\n",
       "      <td>-0.078291</td>\n",
       "      <td>-0.089490</td>\n",
       "    </tr>\n",
       "  </tbody>\n",
       "</table>\n",
       "<p>2185 rows × 7 columns</p>\n",
       "</div>"
      ],
      "text/plain": [
       "          Likes   Replies  Retweets                   id account_type  \\\n",
       "7     -0.104654 -0.093856 -0.091494                30973          bot   \n",
       "14    -0.104032 -0.094055 -0.089970               622143          bot   \n",
       "19    -0.102042 -0.089477 -0.081068               717313          bot   \n",
       "21    -0.036126  0.279737  0.046845               742143          bot   \n",
       "26    -0.061449  0.158324 -0.001564               759251          bot   \n",
       "...         ...       ...       ...                  ...          ...   \n",
       "15387 -0.104983 -0.095249 -0.092104  1101849622073491456          bot   \n",
       "15388 -0.104969 -0.095249 -0.092104  1107378463114227712          bot   \n",
       "15389 -0.104464 -0.093656 -0.091738  1109778441379950592          bot   \n",
       "15390 -0.104991 -0.095249 -0.092104  1113425507624919040          bot   \n",
       "15391 -0.104991 -0.095249 -0.092104  1113577200664629249          bot   \n",
       "\n",
       "       PredictedReplies  PredictedRetweets  \n",
       "7             -0.078040          -0.089203  \n",
       "14            -0.077576          -0.088673  \n",
       "19            -0.076092          -0.086977  \n",
       "21            -0.026939          -0.030792  \n",
       "26            -0.045822          -0.052377  \n",
       "...                 ...                ...  \n",
       "15387         -0.078286          -0.089484  \n",
       "15388         -0.078275          -0.089471  \n",
       "15389         -0.077898          -0.089041  \n",
       "15390         -0.078291          -0.089490  \n",
       "15391         -0.078291          -0.089490  \n",
       "\n",
       "[2185 rows x 7 columns]"
      ]
     },
     "execution_count": 35,
     "metadata": {},
     "output_type": "execute_result"
    }
   ],
   "source": [
    "norm_sum_human = norm_sum[norm_sum.account_type == \"human\"]\n",
    "norm_sum_bot = norm_sum[norm_sum.account_type == \"bot\"]\n",
    "norm_sum_bot"
   ]
  },
  {
   "cell_type": "code",
   "execution_count": 36,
   "id": "12de141e",
   "metadata": {},
   "outputs": [
    {
     "data": {
      "text/plain": [
       "<AxesSubplot:xlabel='Likes', ylabel='PredictedRetweets'>"
      ]
     },
     "execution_count": 36,
     "metadata": {},
     "output_type": "execute_result"
    },
    {
     "data": {
      "image/png": "[encoded data removed]",
      "text/plain": [
       "<Figure size 720x720 with 1 Axes>"
      ]
     },
     "metadata": {
      "needs_background": "light"
     },
     "output_type": "display_data"
    }
   ],
   "source": [
    "ax = norm_sum_human.plot.scatter(x = 'Likes', y = 'Retweets', color = 'blue')\n",
    "norm_sum_human.plot.scatter(x = 'Likes', y = 'PredictedRetweets', ax=ax, color = 'red', figsize = (10, 10))"
   ]
  },
  {
   "cell_type": "code",
   "execution_count": 37,
   "id": "b8a54de9",
   "metadata": {},
   "outputs": [
    {
     "data": {
      "text/plain": [
       "<AxesSubplot:xlabel='Likes', ylabel='PredictedRetweets'>"
      ]
     },
     "execution_count": 37,
     "metadata": {},
     "output_type": "execute_result"
    },
    {
     "data": {
      "image/png": "[encoded data removed]",
      "text/plain": [
       "<Figure size 720x720 with 1 Axes>"
      ]
     },
     "metadata": {
      "needs_background": "light"
     },
     "output_type": "display_data"
    }
   ],
   "source": [
    "ax = norm_sum_bot.plot.scatter(x = 'Likes', y = 'Retweets', color = 'blue')\n",
    "norm_sum_bot.plot.scatter(x = 'Likes', y = 'PredictedRetweets', ax=ax, color = 'red', figsize = (10, 10))"
   ]
  },
  {
   "cell_type": "code",
   "execution_count": 38,
   "id": "2ab15d8e",
   "metadata": {},
   "outputs": [
    {
     "data": {
      "text/plain": [
       "<AxesSubplot:xlabel='Likes', ylabel='PredictedReplies'>"
      ]
     },
     "execution_count": 38,
     "metadata": {},
     "output_type": "execute_result"
    },
    {
     "data": {
      "image/png": "[encoded data removed]",
      "text/plain": [
       "<Figure size 720x720 with 1 Axes>"
      ]
     },
     "metadata": {
      "needs_background": "light"
     },
     "output_type": "display_data"
    }
   ],
   "source": [
    "ax = norm_sum_human.plot.scatter(x = 'Likes', y = 'Replies', color = 'blue')\n",
    "norm_sum_human.plot.scatter(x = 'Likes', y = 'PredictedReplies', ax=ax, color = 'red', figsize = (10, 10))"
   ]
  },
  {
   "cell_type": "code",
   "execution_count": 39,
   "id": "55450780",
   "metadata": {},
   "outputs": [
    {
     "data": {
      "text/plain": [
       "<AxesSubplot:xlabel='Likes', ylabel='PredictedReplies'>"
      ]
     },
     "execution_count": 39,
     "metadata": {},
     "output_type": "execute_result"
    },
    {
     "data": {
      "image/png": "[encoded data removed]",
      "text/plain": [
       "<Figure size 720x720 with 1 Axes>"
      ]
     },
     "metadata": {
      "needs_background": "light"
     },
     "output_type": "display_data"
    }
   ],
   "source": [
    "ax = norm_sum_bot.plot.scatter(x = 'Likes', y = 'Replies', color = 'blue')\n",
    "norm_sum_bot.plot.scatter(x = 'Likes', y = 'PredictedReplies', ax=ax, color = 'red', figsize = (10, 10))"
   ]
  },
  {
   "cell_type": "markdown",
   "id": "7090a247",
   "metadata": {},
   "source": [
    "## Conclusion\n",
    "\n",
    "Based on our analysis, we have observed that there exists differences in Twitter engagement between humans and bots. From our visualizations, we have identified fewer replies and retweets for Twitter bot-profile accounts compared to human accounts.  \n",
    "\n",
    "Caveats: \n",
    "We used sum to do our analysis. This causes issues because it does not take into account how certain posts across all of the Twitter accounts have varying impressions. Additionally, we decided to use the conventional \"mean\" statistic because we realize potentially that the dataset could have had outliers, or the dataset could have potentally been skewed from the beginning while web-scrapping.\n",
    "\n",
    "Future Work: \n",
    "To solve some of our initial questions outlined in Part 1, we could perform text analysis on our tweets to see what keywords may differentiate tweets sent by humans versus tweets sent by bots. We could also webscrape to find time of tweets sent, since we hypothesize that bot accounts tend to send out tweets within closer time ranges. For the most part, we feel that through our initial webscraping, we have discovered most of the information that can be obtained from a public Twitter account.\n",
    "\n",
    "Open Questions: \n",
    "1) Do outliers have a significance toward identifying Twitter human or bot accounts?\n",
    "\n",
    "2) Time-Analysis: We may look into the time when Twitter posts were posted on both the human and bot accounts. Does the frequency of posts have impact on distinguishing between Twitter human and bot accounts? "
   ]
  },
  {
   "cell_type": "markdown",
   "id": "3f4a0c51",
   "metadata": {},
   "source": [
    "## Team Contribution for Part 2 Deliverable\n",
    "\n",
    "-Aidan B.: Developed webscrapper to Grab .csv Files\n",
    "\n",
    "-Abhay R.: Did Initial Data Cleaning and Visualizations\n",
    "\n",
    "-Brandon W.: Helped With Writing the Conclusion Section of QAC and Helped in Creating Some of the Data Visualization\n",
    "\n",
    "-William K.: Helped with Doing Linear Regression Analysis and Basic Data Visualization\n",
    "\n",
    "-Andrew T.: Managed the GitHub, Helped with Writing the Question and Analysis Section of QAC"
   ]
  }
 ],
 "metadata": {
  "kernelspec": {
   "display_name": "Python 3 (ipykernel)",
   "language": "python",
   "name": "python3"
  },
  "language_info": {
   "codemirror_mode": {
    "name": "ipython",
    "version": 3
   },
   "file_extension": ".py",
   "mimetype": "text/x-python",
   "name": "python",
   "nbconvert_exporter": "python",
   "pygments_lexer": "ipython3",
   "version": "3.9.12"
  }
 },
 "nbformat": 4,
 "nbformat_minor": 5
}
