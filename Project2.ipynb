{
 "cells": [
  {
   "cell_type": "markdown",
   "id": "aef0aa14",
   "metadata": {},
   "source": [
    "Name(s): Andrew Tran, Abhay Raghavan, William Kim, Brandon Woo, Aidan Brennan\n",
    "\n",
    "CS 3654 Group 15"
   ]
  },
  {
   "cell_type": "markdown",
   "id": "d9fe9ac8",
   "metadata": {},
   "source": [
    "CS 3654 Team Project Part 2 Deliverable\n",
    "\n",
    "1) Jupyter Notebook Project2.ipynb and Project2.html in QAC format that expands on your Part 1 report to add the following:\n",
    "- Your initial findings, including annotated code, visuals, and analyses used to discover them.\n",
    "- Include a procedural section that describes any major changes you made to Part 1 (e.g., new topic, new research questions), and a listing of anything you tried that didn't work out.\n",
    "- Credit listing of what each team member contributed to which parts when completing Part 2.\n",
    "\n",
    "2) Any processed data files (in compressed form if large), preferably in CSV format.\n",
    "\n",
    "3) Any additional Jupyter Notebooks containing material you left out of your primary notebook."
   ]
  },
  {
   "cell_type": "markdown",
   "id": "45964571",
   "metadata": {},
   "source": [
    "Project Introduction:\n",
    "\n",
    "We will be analyzing datasets containing data that distinguishes between Twitter bot accounts and 'human' accounts. Bot accounts have been growing on the platform in recent times and Twitter has had to suspend accounts that were spreading misinformation. We want to obtain information about Twitter user accounts and identify trends in bot accounts versus human accounts in order to help better distinguish between them."
   ]
  }
 ],
 "metadata": {
  "kernelspec": {
   "display_name": "Python 3 (ipykernel)",
   "language": "python",
   "name": "python3"
  },
  "language_info": {
   "codemirror_mode": {
    "name": "ipython",
    "version": 3
   },
   "file_extension": ".py",
   "mimetype": "text/x-python",
   "name": "python",
   "nbconvert_exporter": "python",
   "pygments_lexer": "ipython3",
   "version": "3.9.12"
  }
 },
 "nbformat": 4,
 "nbformat_minor": 5
}
